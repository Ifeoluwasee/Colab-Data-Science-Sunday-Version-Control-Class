{
 "cells": [
  {
   "cell_type": "code",
   "execution_count": 1,
   "id": "0ea7ac91-a42e-4a2a-bbd5-5a7b770d5a5b",
   "metadata": {},
   "outputs": [],
   "source": [
    "def addition(a, b):\n",
    "    print(a + b)"
   ]
  },
  {
   "cell_type": "code",
   "execution_count": 3,
   "id": "49382c74-12ac-42c7-90c6-df4f05e46093",
   "metadata": {},
   "outputs": [
    {
     "name": "stdout",
     "output_type": "stream",
     "text": [
      "8\n"
     ]
    }
   ],
   "source": [
    "addition(3, 5)"
   ]
  },
  {
   "cell_type": "code",
   "execution_count": null,
   "id": "9e729531-be83-4904-933a-0591c7f9a9b6",
   "metadata": {},
   "outputs": [],
   "source": []
  }
 ],
 "metadata": {
  "kernelspec": {
   "display_name": "Python [conda env:base] *",
   "language": "python",
   "name": "conda-base-py"
  },
  "language_info": {
   "codemirror_mode": {
    "name": "ipython",
    "version": 3
   },
   "file_extension": ".py",
   "mimetype": "text/x-python",
   "name": "python",
   "nbconvert_exporter": "python",
   "pygments_lexer": "ipython3",
   "version": "3.12.7"
  }
 },
 "nbformat": 4,
 "nbformat_minor": 5
}
